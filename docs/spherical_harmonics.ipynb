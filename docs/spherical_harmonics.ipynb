{
 "cells": [
  {
   "cell_type": "markdown",
   "id": "56b7ef7f-db2c-4a64-97de-c65000ee5c66",
   "metadata": {},
   "source": [
    "# Spherical Harmonics"
   ]
  },
  {
   "cell_type": "code",
   "execution_count": 1,
   "id": "e94a34f7-fe49-45c8-880b-81530b87868a",
   "metadata": {},
   "outputs": [],
   "source": [
    "import numpy as np\n",
    "import matplotlib.pyplot as plt\n",
    "import matplotlib.colors as mcolors\n",
    "import ipywidgets as widgets\n",
    "\n",
    "from scipy.special import sph_harm"
   ]
  },
  {
   "cell_type": "code",
   "execution_count": 2,
   "id": "9b262d2d-3eb5-431b-8110-4b0857655cf6",
   "metadata": {},
   "outputs": [
    {
     "data": {
      "application/vnd.jupyter.widget-view+json": {
       "model_id": "817a3f2810e645678e953031d036f78e",
       "version_major": 2,
       "version_minor": 0
      },
      "text/plain": [
       "interactive(children=(IntSlider(value=3, description='$l$', max=10), IntSlider(value=1, description='$m$', max…"
      ]
     },
     "metadata": {},
     "output_type": "display_data"
    },
    {
     "data": {
      "text/plain": [
       "<function __main__.my_plot(l, m)>"
      ]
     },
     "execution_count": 2,
     "metadata": {},
     "output_type": "execute_result"
    }
   ],
   "source": [
    "def my_plot(l,m):\n",
    "    theta, phi = np.linspace(0, 2 * np.pi, 50), np.linspace(0, np.pi, 50)\n",
    "    THETA, PHI = np.meshgrid(theta, phi)\n",
    "\n",
    "    s_harm = sph_harm(m, l, THETA, PHI)\n",
    "    R = abs(s_harm)\n",
    "\n",
    "    X = R * np.sin(PHI) * np.cos(THETA)\n",
    "    Y = R * np.sin(PHI) * np.sin(THETA)\n",
    "    Z = R * np.cos(PHI)\n",
    "\n",
    "    coolwarm = plt.get_cmap('coolwarm')\n",
    "    norm = mcolors.Normalize(vmin=Z.min(), vmax=Z.max())\n",
    "    fcolors = coolwarm(norm(Z))\n",
    "\n",
    "    fig = plt.figure(figsize=[12,12])\n",
    "    ax = fig.add_subplot(1,1,1, projection='3d')\n",
    "    ax.plot_surface(X, Y, Z, rstride=1, cstride=1, cmap=coolwarm, facecolors=fcolors,\n",
    "        linewidth=0, antialiased=False, alpha=0.5)\n",
    "\n",
    "    plt.title('Spherical Harmonics, $Y_l^m(\\\\theta,\\\\phi)$, $l=$ {0}, $m=$ {1}'.format(l,m))\n",
    "    plt.xlabel('$x$')\n",
    "    plt.ylabel('$y$')\n",
    "    plt.ylabel('$z$')\n",
    "\n",
    "    plt.show()\n",
    "\n",
    "widgets.interact(my_plot, \n",
    "                 l=widgets.IntSlider(value=3, min=0,max=10, description='$l$'),\n",
    "                 m=widgets.IntSlider(value=1, min=0,max=10, description='$m$'))"
   ]
  },
  {
   "cell_type": "markdown",
   "id": "d9c733d3-2360-4277-8e68-797a7ff3966a",
   "metadata": {},
   "source": [
    "## Reference\n",
    "\n",
    "- [3D Graphics-oriented Spherical Harmonics Library](https://github.com/google/spherical-harmonics)"
   ]
  },
  {
   "cell_type": "code",
   "execution_count": null,
   "id": "6626a4d7-aa1b-42bf-9e46-bad54b66bc2c",
   "metadata": {},
   "outputs": [],
   "source": []
  }
 ],
 "metadata": {
  "kernelspec": {
   "display_name": "Python 3 (ipykernel)",
   "language": "python",
   "name": "python3"
  },
  "language_info": {
   "codemirror_mode": {
    "name": "ipython",
    "version": 3
   },
   "file_extension": ".py",
   "mimetype": "text/x-python",
   "name": "python",
   "nbconvert_exporter": "python",
   "pygments_lexer": "ipython3",
   "version": "3.8.10"
  }
 },
 "nbformat": 4,
 "nbformat_minor": 5
}
