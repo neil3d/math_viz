{
 "cells": [
  {
   "cell_type": "markdown",
   "id": "c2dd059c-8fe5-46e6-8fc7-b299e97bc7be",
   "metadata": {},
   "source": [
    "# Linearly Transformed Cosines"
   ]
  },
  {
   "cell_type": "markdown",
   "id": "26a02c04-ec97-4cd0-a191-0e17c7fdc384",
   "metadata": {},
   "source": [
    "- See: [Original Spherical Distributions](./spherical_distributions.ipynb) "
   ]
  },
  {
   "cell_type": "markdown",
   "id": "332535ec-aaa1-4462-8133-43dede5de416",
   "metadata": {},
   "source": [
    "## Linearly Transformed Distributions\n",
    "\n",
    "$$\n",
    "D(\\omega) = D_{o}\\left(\\frac{M^{-1} \\omega}{\\left\\|M^{-1} \\omega\\right\\|}\\right) \\frac{\\left|M^{-1}\\right|}{\\left\\|M^{-1} \\omega\\right\\|^{3}}\n",
    "$$"
   ]
  },
  {
   "cell_type": "markdown",
   "id": "c0d89549-bfec-41f9-850f-a8703130f9ee",
   "metadata": {},
   "source": [
    "def d_linearly_transformed(w, M, Do)\n",
    "    # invert matrix\n",
    "    invM = inv(M)\n",
    "\n",
    "    # Jacobian\n",
    "    Jacobian = abs(det(invM)) / norm(invM * w’)^3;\n",
    "    \n",
    "    # value of original distribution\n",
    "    wo = invM * w’ / norm(invM * w’);\n",
    "    a = feval(Do, wo);\n",
    "    \n",
    "    # result\n",
    "    res = a * Jacobian;"
   ]
  },
  {
   "cell_type": "markdown",
   "id": "e9d209e0-34fa-4659-9072-cc0f7011eddd",
   "metadata": {},
   "source": [
    "## BRDF Fitting\n",
    "\n",
    "- TODO"
   ]
  },
  {
   "cell_type": "markdown",
   "id": "7529c1ac-64e2-488a-bbd6-6c0a4733733d",
   "metadata": {
    "tags": []
   },
   "source": [
    "## Reference\n",
    "\n",
    "- [Real-Time Polygonal-Light Shading with Linearly Transformed Cosines](https://eheitzresearch.wordpress.com/415-2/)"
   ]
  }
 ],
 "metadata": {
  "kernelspec": {
   "display_name": "Python 3 (ipykernel)",
   "language": "python",
   "name": "python3"
  },
  "language_info": {
   "codemirror_mode": {
    "name": "ipython",
    "version": 3
   },
   "file_extension": ".py",
   "mimetype": "text/x-python",
   "name": "python",
   "nbconvert_exporter": "python",
   "pygments_lexer": "ipython3",
   "version": "3.8.10"
  }
 },
 "nbformat": 4,
 "nbformat_minor": 5
}
